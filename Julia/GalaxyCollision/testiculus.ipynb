{
 "cells": [
  {
   "cell_type": "code",
   "execution_count": 228,
   "metadata": {},
   "outputs": [
    {
     "data": {
      "text/plain": [
       "init_disk! (generic function with 2 methods)"
      ]
     },
     "metadata": {},
     "output_type": "display_data"
    }
   ],
   "source": [
    "G = 4.3009E-3 *1u\"pc *(km/s)^2 * Msun\"\n",
    "function format_parameters(galaxy_args)\n",
    "    #I didn't have this at first, but this makes all galaxies have an uniform format. Not too crazy\n",
    "    return Dict(\n",
    "        \"mass\" => galaxy_args[1]*1u\"Msun\",\n",
    "        \"radius\"     => galaxy_args[2]*1u\"pc\",\n",
    "        \"center_pos\" => galaxy_args[3].*1u\"pc\",\n",
    "        \"center_vel\" => galaxy_args[4].*1u\"km/s\",\n",
    "        \"normal\"     => galaxy_args[5],\n",
    "        \"Nᵣ\"    => galaxy_args[6],\n",
    "        \"Nₛ\"    => galaxy_args[7],\n",
    "        \"softening\"  => galaxy_args[8]\n",
    "    )\n",
    "end\n",
    "function init_disk!(galaxy,dt=1E-4u\"yr\")\n",
    "    #=\n",
    "    This function takes a 'galaxy' as an argument, which is an array of 8 arguments=>\n",
    "        [mass,radius,center_pos,center_vel,normal,N_rings,N_stars,softening]\n",
    "    And outputs the star positions, velocities and the velocity scale.\n",
    "    =#\n",
    "    dr = (1-galaxy[\"softening\"]) * galaxy[\"radius\"]/galaxy[\"Nᵣ\"] # Disregarding the softening, this is just the width of the rings(raidus/number of slices)\n",
    "    StarsPerRing = trunc(Int64,galaxy[\"Nₛ\"]/galaxy[\"Nᵣ\"])\n",
    "#-------------------------------------------------------------Rotations--------------------------------------------------------------\n",
    "    if norm(galaxy[\"normal\"]) == 0 \n",
    "        Rotation = I\n",
    "    else \n",
    "        cosθ = normalize(galaxy[\"normal\"])[3]\n",
    "        sinθ = √(1-cosθ^2)\n",
    "        u = [0,0,1] × normalize(galaxy[\"normal\"])\n",
    "        u = normalize(u)\n",
    "\n",
    "        Rotation = [\n",
    "        u[1]*u[1]*(1-cosθ)+cosθ u[1]*u[2]*(1-cosθ)-u[2]*sinθ u[1]*u[3]*(1-cosθ)+u[1]*sinθ;\n",
    "\n",
    "        u[2]*u[1]*(1-cosθ)+u[3]*sinθ u[2]*u[2]*(1-cosθ)+cosθ u[2]*u[3]*(1-cosθ)-u[1]*sinθ;\n",
    "\n",
    "        u[3]*u[1]*(1-cosθ)+u[2]*sinθ u[3]*u[1]*(1-cosθ)+u[1]*sinθ u[3]*u[3]*(1-cosθ)+cosθ\n",
    "        ]\n",
    "    end\n",
    "#-----------------------------------------------------------------------------------------------------------------------------------\n",
    "    galaxy[\"stars_pos\"] = []\n",
    "    galaxy[\"stars_vel\"] = []\n",
    "\n",
    "    R = galaxy[\"softening\"] * galaxy[\"radius\"]\n",
    "    for i ∈ 1:galaxy[\"Nᵣ\"] #iterate over the rings\n",
    "        #Randomly distribute the initial radii and angles \n",
    "        rₛ =(R * ones(StarsPerRing) + dr *rand(StarsPerRing))./1u\"pc\" #creates an n-dimensional vector of radii from R to R+dr \n",
    "        ϕₛ = 2π *rand(StarsPerRing)\n",
    "\n",
    "        # Positions \n",
    "        vecᵣ = (Rotation * [rₛ.*cos.(ϕₛ),rₛ.*sin.(ϕₛ),zeros(StarsPerRing)]/.1u\"pc\").*1u\"pc\"\n",
    "        x = galaxy[\"center_pos\"][1].+vecᵣ[1]\n",
    "        y = galaxy[\"center_pos\"][2].+vecᵣ[2]\n",
    "        z = galaxy[\"center_pos\"][3].+vecᵣ[3]\n",
    "\n",
    "        # Velocities\n",
    "        Tₛ = 2π *√(((rₛ*1u\"pc\")^3)/(G *galaxy[\"mass\"]))\n",
    "        Δϕ = 2π *dt/Tₛ\n",
    "\n",
    "        vecᵥ = uconvert.(u\"km/s\",Rotation* [rₛ.*(cos.(ϕₛ)-cos.(ϕₛ-Δϕ)),rₛ.*(sin.(ϕₛ)-sin.(ϕₛ-Δϕ)),zeros(StarsPerRing)])\n",
    "        v₁ = galaxy[\"center_vel\"][1].+vecᵥ[1]\n",
    "        v₂ = galaxy[\"center_vel\"][2].+vecᵥ[2]\n",
    "        v₃ = galaxy[\"center_vel\"][3].+vecᵥ[3]\n",
    "        push!(galaxy[\"stars_pos\"],[x,y,z])\n",
    "        push!(galaxy[\"stars_vel\"],[v₁,v₂,v₃])\n",
    "        R += dr\n",
    "    end \n",
    "    galaxy[\"vel_scale\"]=uconvert(u\"km/s\",√(G*galaxy[\"mass\"]/(0.5*R)))\n",
    "end"
   ]
  },
  {
   "cell_type": "code",
   "execution_count": 229,
   "metadata": {},
   "outputs": [
    {
     "ename": "Unitful.DimensionError",
     "evalue": "DimensionError: -5.0 pc and -0.7584521895523385 are not dimensionally compatible.",
     "output_type": "error",
     "traceback": [
      "DimensionError: -5.0 pc and -0.7584521895523385 are not dimensionally compatible.\n",
      "\n",
      "Stacktrace:\n",
      "  [1] +(x::Quantity{Float64, 𝐋, Unitful.FreeUnits{(pc,), 𝐋, nothing}}, y::Quantity{Float64, NoDims, Unitful.FreeUnits{(), NoDims, nothing}})\n",
      "    @ Unitful C:\\Users\\batti\\.julia\\packages\\Unitful\\fbiNW\\src\\quantities.jl:133\n",
      "  [2] +(x::Quantity{Int64, 𝐋, Unitful.FreeUnits{(pc,), 𝐋, nothing}}, y::Float64)\n",
      "    @ Base .\\promotion.jl:388\n",
      "  [3] _broadcast_getindex_evalf\n",
      "    @ .\\broadcast.jl:670 [inlined]\n",
      "  [4] _broadcast_getindex\n",
      "    @ .\\broadcast.jl:643 [inlined]\n",
      "  [5] getindex\n",
      "    @ .\\broadcast.jl:597 [inlined]\n",
      "  [6] copy\n",
      "    @ .\\broadcast.jl:899 [inlined]\n",
      "  [7] materialize(bc::Base.Broadcast.Broadcasted{Base.Broadcast.DefaultArrayStyle{1}, Nothing, typeof(+), Tuple{Quantity{Int64, 𝐋, Unitful.FreeUnits{(pc,), 𝐋, nothing}}, Vector{Float64}}})\n",
      "    @ Base.Broadcast .\\broadcast.jl:860\n",
      "  [8] init_disk!(galaxy::Dict{String, Any}, dt::Quantity{Float64, 𝐓, Unitful.FreeUnits{(yr,), 𝐓, nothing}})\n",
      "    @ Main c:\\Users\\batti\\Documents\\Uni\\Galaxy Colisions\\testiculus.ipynb:52\n",
      "  [9] init_disk!(galaxy::Dict{String, Any})\n",
      "    @ Main c:\\Users\\batti\\Documents\\Uni\\Galaxy Colisions\\testiculus.ipynb:21\n",
      " [10] top-level scope\n",
      "    @ c:\\Users\\batti\\Documents\\Uni\\Galaxy Colisions\\testiculus.ipynb:2"
     ]
    }
   ],
   "source": [
    "Introoder = format_parameters([5e10, 10, [-5,5,1], [15,-15,0], [1,-1,2^0.5], 10, 4000, 0.025])\n",
    "init_disk!(Introoder)"
   ]
  },
  {
   "cell_type": "code",
   "execution_count": 230,
   "metadata": {},
   "outputs": [
    {
     "data": {
      "text/plain": [
       "400-element Vector{Quantity{Float64, 𝐋, Unitful.FreeUnits{(pc,), 𝐋, nothing}}}:\n",
       "  -5.094684499654795 pc\n",
       "  -5.484212915555774 pc\n",
       "   -4.51076546668597 pc\n",
       "  -5.471847912064625 pc\n",
       "  -4.575683851938968 pc\n",
       "  -5.150629462097826 pc\n",
       " -5.0587989464723835 pc\n",
       "  -4.655217153946315 pc\n",
       "  -5.172851477527959 pc\n",
       "  -4.678461059757543 pc\n",
       "                      ⋮\n",
       "  -5.286653402633439 pc\n",
       " -5.3649220121213474 pc\n",
       "  -5.463794937462642 pc\n",
       "   -5.13902548581043 pc\n",
       "  -5.022471192137517 pc\n",
       "  -5.920634150498412 pc\n",
       "  -4.542048292229277 pc\n",
       "  -4.663571701080697 pc\n",
       " -4.4255128212141015 pc"
      ]
     },
     "metadata": {},
     "output_type": "display_data"
    }
   ],
   "source": [
    "cosθ = normalize(Introoder[\"normal\"])\n",
    "Rotation = rand(3,3)\n",
    "R = Introoder[\"softening\"] * Introoder[\"radius\"]\n",
    "dr = (1-Introoder[\"softening\"]) * Introoder[\"radius\"]/Introoder[\"Nᵣ\"] # Disregarding the softening, this is just the width of the rings(raidus/number of slices)\n",
    "StarsPerRing = trunc(Int64,Introoder[\"Nₛ\"]/Introoder[\"Nᵣ\"])\n",
    "rₛ = (R * ones(StarsPerRing) + dr *rand(StarsPerRing))./1u\"pc\" #creates an n-dimensional vector of radii from R to R+dr \n",
    "ϕₛ = 2π *rand(StarsPerRing)\n",
    "cosθ = normalize(Introoder[\"normal\"])[3]\n",
    "        sinθ = √(1-cosθ^2)\n",
    "        u = [0,0,1] × normalize(Introoder[\"normal\"])\n",
    "        u = normalize(u)\n",
    "\n",
    "        Rotation = [\n",
    "        u[1]*u[1]*(1-cosθ)+cosθ u[1]*u[2]*(1-cosθ)-u[2]*sinθ u[1]*u[3]*(1-cosθ)+u[1]*sinθ;\n",
    "\n",
    "        u[2]*u[1]*(1-cosθ)+u[3]*sinθ u[2]*u[2]*(1-cosθ)+cosθ u[2]*u[3]*(1-cosθ)-u[1]*sinθ;\n",
    "\n",
    "        u[3]*u[1]*(1-cosθ)+u[2]*sinθ u[3]*u[1]*(1-cosθ)+u[1]*sinθ u[3]*u[3]*(1-cosθ)+cosθ\n",
    "        ]\n",
    "        vecᵣ =Rotation.*[rₛ.*cos.(ϕₛ),rₛ.*sin.(ϕₛ),zeros(StarsPerRing)].*1u\"pc\"\n",
    "        Introoder[\"center_pos\"][1] .+ vecᵣ[1]"
   ]
  },
  {
   "cell_type": "code",
   "execution_count": 58,
   "metadata": {},
   "outputs": [
    {
     "ename": "MethodError",
     "evalue": "MethodError: no method matching identity(::Int64, ::Int64)\nClosest candidates are:\n  identity(::Any) at operators.jl:526",
     "output_type": "error",
     "traceback": [
      "MethodError: no method matching identity(::Int64, ::Int64)\n",
      "Closest candidates are:\n",
      "  identity(::Any) at operators.jl:526\n",
      "\n",
      "Stacktrace:\n",
      " [1] top-level scope\n",
      "   @ c:\\Users\\batti\\Documents\\Uni\\Galaxy Colisions\\testiculus.ipynb:4"
     ]
    }
   ],
   "source": [
    "a=[0,0,4]\n",
    "b=[1,2,3]\n",
    "a×b"
   ]
  },
  {
   "cell_type": "code",
   "execution_count": 60,
   "metadata": {},
   "outputs": [
    {
     "data": {
      "text/plain": [
       "UniformScaling{Int64}\n",
       "3*I"
      ]
     },
     "metadata": {},
     "output_type": "display_data"
    }
   ],
   "source": []
  }
 ],
 "metadata": {
  "kernelspec": {
   "display_name": "Julia 1.8.5",
   "language": "julia",
   "name": "julia-1.8"
  },
  "language_info": {
   "file_extension": ".jl",
   "mimetype": "application/julia",
   "name": "julia",
   "version": "1.8.5"
  },
  "orig_nbformat": 4
 },
 "nbformat": 4,
 "nbformat_minor": 2
}
