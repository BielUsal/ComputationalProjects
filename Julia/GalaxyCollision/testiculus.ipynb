{
 "cells": [
  {
   "cell_type": "code",
   "execution_count": 2,
   "metadata": {},
   "outputs": [
    {
     "data": {
      "text/plain": [
       "init_disk! (generic function with 2 methods)"
      ]
     },
     "metadata": {},
     "output_type": "display_data"
    }
   ],
   "source": [
    "using LinearAlgebra\n",
    "using Unitful\n",
    "using UnitfulAstro\n",
    "using OrdinaryDiffEq\n",
    "include(\"./GalaxyCollisionFunctions.jl\")"
   ]
  },
  {
   "cell_type": "code",
   "execution_count": 3,
   "metadata": {},
   "outputs": [
    {
     "data": {
      "text/plain": [
       "6558.124731964162 km s^-1"
      ]
     },
     "metadata": {},
     "output_type": "display_data"
    }
   ],
   "source": []
  },
  {
   "cell_type": "code",
   "execution_count": 58,
   "metadata": {},
   "outputs": [
    {
     "data": {
      "text/plain": [
       "init_disk! (generic function with 2 methods)"
      ]
     },
     "metadata": {},
     "output_type": "display_data"
    }
   ],
   "source": [
    "G = 4.3009E-3 *1u\"pc *(km/s)^2 /Msun\"\n",
    "function format_parameters(galaxy_args)\n",
    "    #I didn't have this at first, but this makes all galaxies have an uniform format. Not too crazy\n",
    "    return Dict(\n",
    "        \"mass\" => galaxy_args[1]*1u\"Msun\",\n",
    "        \"radius\"     => galaxy_args[2]*1u\"pc\",\n",
    "        \"center_pos\" => galaxy_args[3].*1u\"pc\",\n",
    "        \"center_vel\" => galaxy_args[4].*1u\"km/s\",\n",
    "        \"normal\"     => galaxy_args[5],\n",
    "        \"Nᵣ\"    => galaxy_args[6],\n",
    "        \"Nₛ\"    => galaxy_args[7],\n",
    "        \"softening\"  => galaxy_args[8]\n",
    "    )\n",
    "end\n",
    "function init_disk!(galaxy,dT=1E-4u\"yr\")\n",
    "    #=\n",
    "    This function takes a 'galaxy' as an argument, which is an array of 8 arguments=>\n",
    "        [mass,radius,center_pos,center_vel,normal,N_rings,N_stars,softening]\n",
    "    And outputs the star positions, velocities and the velocity scale.\n",
    "    =#\n",
    "    dr = (1-galaxy[\"softening\"]) * galaxy[\"radius\"]/galaxy[\"Nᵣ\"] # Disregarding the softening, this is just the width of the rings(raidus/number of slices)\n",
    "    StarsPerRing = trunc(Int64,galaxy[\"Nₛ\"]/galaxy[\"Nᵣ\"])\n",
    "#-------------------------------------------------------------Rotations--------------------------------------------------------------\n",
    "    if norm(galaxy[\"normal\"]) == 0 \n",
    "        Rotation = I\n",
    "    else \n",
    "        cosθ = normalize(galaxy[\"normal\"])[3]\n",
    "        sinθ = √(1-cosθ^2)\n",
    "        u = [0,0,1] × normalize(galaxy[\"normal\"])\n",
    "        u = normalize(u)\n",
    "\n",
    "        Rotation = [\n",
    "        u[1]*u[1]*(1-cosθ)+cosθ u[1]*u[2]*(1-cosθ)-u[2]*sinθ u[1]*u[3]*(1-cosθ)+u[1]*sinθ;\n",
    "\n",
    "        u[2]*u[1]*(1-cosθ)+u[3]*sinθ u[2]*u[2]*(1-cosθ)+cosθ u[2]*u[3]*(1-cosθ)-u[1]*sinθ;\n",
    "\n",
    "        u[3]*u[1]*(1-cosθ)+u[2]*sinθ u[3]*u[1]*(1-cosθ)+u[1]*sinθ u[3]*u[3]*(1-cosθ)+cosθ\n",
    "        ]\n",
    "    end\n",
    "#-----------------------------------------------------------------------------------------------------------------------------------\n",
    "    galaxy[\"star_pos\"] = []\n",
    "    galaxy[\"star_vel\"] = []\n",
    "\n",
    "    R = galaxy[\"softening\"] * galaxy[\"radius\"]\n",
    "    for i ∈ 1:galaxy[\"Nᵣ\"] #iterate over the rings\n",
    "        #Randomly distribute the initial radii and angles \n",
    "        rₛ =(R * ones(StarsPerRing) + dr *rand(StarsPerRing))./1u\"pc\" #creates an n-dimensional vector of radii from R to R+dr \n",
    "        ϕₛ = 2π *rand(StarsPerRing)\n",
    "\n",
    "        # Positions \n",
    "        vecᵣ = (Rotation * ([rₛ.*cos.(ϕₛ),rₛ.*sin.(ϕₛ),zeros(StarsPerRing)])).*1u\"pc\"\n",
    "        x = ustrip.(u\"m\",galaxy[\"center_pos\"][1].+vecᵣ[1])#here, we strip our units into our 'integrating' unitlessness because units don't really play nice in arrays of arrays\n",
    "        y = ustrip.(u\"m\",galaxy[\"center_pos\"][2].+vecᵣ[2])\n",
    "        z = ustrip.(u\"m\",galaxy[\"center_pos\"][3].+vecᵣ[3])\n",
    "\n",
    "        # Velocities\n",
    "        Tₛ = 2π * uconvert.(u\"s\",sqrt.((rₛ*1u\"pc\").^3/(G *Introoder[\"mass\"])))\n",
    "\n",
    "        Δϕ = 2π *uconvert(u\"s\",dT)./Tₛ \n",
    "\n",
    "        vecᵥ = (Rotation* [(rₛ/(uconvert(u\"s\",dT)*1u\"1/s\")).*(cos.(ϕₛ)-cos.(ϕₛ-Δϕ)),rₛ/(uconvert(u\"s\",dT)*1u\"1/s\").*(sin.(ϕₛ)-sin.(ϕₛ-Δϕ)),zeros(StarsPerRing)])*1u\"pc/s\"\n",
    "        v₁ = ustrip.(u\"m/s\",galaxy[\"center_vel\"][1].+vecᵥ[1])\n",
    "        v₂ = ustrip.(u\"m/s\",galaxy[\"center_vel\"][2].+vecᵥ[2])\n",
    "        v₃ = ustrip.(u\"m/s\",galaxy[\"center_vel\"][3].+vecᵥ[3])\n",
    "        for j ∈ 1:StarsPerRing\n",
    "            push!(galaxy[\"star_pos\"],[x[j],y[j],z[j]])\n",
    "            push!(galaxy[\"star_vel\"],[v₁[j],v₂[j],v₃[j]])\n",
    "        end\n",
    "        R += dr\n",
    "    end \n",
    "    galaxy[\"vel_scale\"]=uconvert(u\"km/s\",√(G*galaxy[\"mass\"]/(0.5*R)))\n",
    "end\n",
    "\n",
    "\n",
    "function evolve_disk(galaxy,dT=1e-4u\"yr\",N_steps=100000,frames=500)\n",
    "    #Integration stuff\n",
    "    dT=ustrip(u\"s\",dT)\n",
    "    rₘ=ustrip(u\"m\",galaxy[\"softening\"]*galaxy(\"radius\"))\n",
    "    Nₛ=galaxy[\"Nₛ\"]\n",
    "    \n",
    "    #Galaxy stuff\n",
    "    M = ustrip(u\"Msun\",galaxy[\"mass\"])\n",
    "    R₀ = ustrip.(galaxy[\"center_pos\"])\n",
    "    V₀ = ustrip.(galaxy[\"center_vel\"])\n",
    "\n",
    "    #star stuff\n",
    "    rₛ = galaxy[\"star_pos\"]\n",
    "    vₛ=galaxy[\"star_vel\"]\n",
    "\n",
    "    f(dr,r,R,t) = ustrip(u\"m^3/(Msun *s^2)\",G)*M (R-r)/max(norm(R-r),rₘ)\n",
    "\n",
    "end"
   ]
  },
  {
   "cell_type": "code",
   "execution_count": 60,
   "metadata": {},
   "outputs": [
    {
     "data": {
      "text/plain": [
       "3-element Vector{Float64}:\n",
       " -1.4295808562858902e17\n",
       "  1.386543103439726e17\n",
       "  2.3899455284736736e16"
      ]
     },
     "metadata": {},
     "output_type": "display_data"
    }
   ],
   "source": [
    "Introoder = format_parameters([5e10, 10, [-5,5,1], [15,-15,0], [1,-1,2^0.5], 10, 40, 0.025])\n",
    "init_disk!(Introoder)"
   ]
  },
  {
   "cell_type": "code",
   "execution_count": 26,
   "metadata": {},
   "outputs": [
    {
     "data": {
      "text/plain": [
       "evolve_disk (generic function with 4 methods)"
      ]
     },
     "metadata": {},
     "output_type": "display_data"
    }
   ],
   "source": [
    "cosθ = normalize(Introoder[\"normal\"])\n",
    "Rotation = rand(3,3)\n",
    "R = Introoder[\"softening\"] * Introoder[\"radius\"]\n",
    "dr = (1-Introoder[\"softening\"]) * Introoder[\"radius\"]/Introoder[\"Nᵣ\"] # Disregarding the softening, this is just the width of the rings(raidus/number of slices)\n",
    "StarsPerRing = trunc(Int64,Introoder[\"Nₛ\"]/Introoder[\"Nᵣ\"])\n",
    "rₛ = (R * ones(StarsPerRing) + dr *rand(StarsPerRing))./1u\"pc\" #creates an n-dimensional vector of radii from R to R+dr \n",
    "ϕₛ = 2π *rand(StarsPerRing)\n",
    "cosθ = normalize(Introoder[\"normal\"])[3]\n",
    "        sinθ = √(1-cosθ^2)\n",
    "        u = [0,0,1] × normalize(Introoder[\"normal\"])\n",
    "        u = normalize(u)\n",
    "\n",
    "        Rotation = [\n",
    "        u[1]*u[1]*(1-cosθ)+cosθ u[1]*u[2]*(1-cosθ)-u[2]*sinθ u[1]*u[3]*(1-cosθ)+u[1]*sinθ;\n",
    "\n",
    "        u[2]*u[1]*(1-cosθ)+u[3]*sinθ u[2]*u[2]*(1-cosθ)+cosθ u[2]*u[3]*(1-cosθ)-u[1]*sinθ;\n",
    "\n",
    "        u[3]*u[1]*(1-cosθ)+u[2]*sinθ u[3]*u[1]*(1-cosθ)+u[1]*sinθ u[3]*u[3]*(1-cosθ)+cosθ\n",
    "        ]\n",
    "        vecᵣ =Rotation.*[rₛ.*cos.(ϕₛ),rₛ.*sin.(ϕₛ),zeros(StarsPerRing)].*1u\"pc\"\n",
    "        Introoder[\"center_pos\"][1] .+ vecᵣ[1]\n",
    "        #Tₛ = 2π *sqrt.(((rₛ*1u\"pc\")^3)/(G *galaxy[\"mass\"]))\n",
    "   uconvert.(u\"s\",sqrt.((rₛ*1u\"pc\").^3/(G *Introoder[\"mass\"])))\n",
    "   dT=1E-4u\"yr\"\n",
    "uconvert(u\"s\",dT)\n",
    "\n"
   ]
  },
  {
   "cell_type": "code",
   "execution_count": null,
   "metadata": {},
   "outputs": [],
   "source": []
  }
 ],
 "metadata": {
  "kernelspec": {
   "display_name": "Julia 1.8.5",
   "language": "julia",
   "name": "julia-1.8"
  },
  "language_info": {
   "file_extension": ".jl",
   "mimetype": "application/julia",
   "name": "julia",
   "version": "1.8.5"
  },
  "orig_nbformat": 4
 },
 "nbformat": 4,
 "nbformat_minor": 2
}
