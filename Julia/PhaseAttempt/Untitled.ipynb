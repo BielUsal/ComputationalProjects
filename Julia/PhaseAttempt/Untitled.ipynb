{
 "cells": [
  {
   "cell_type": "code",
   "execution_count": null,
   "id": "429aa3b6",
   "metadata": {},
   "outputs": [],
   "source": [
    "using Makie \n",
    "epsilon=1\n",
    "E=1\n",
    "omega=1\n",
    "odeSol(x,y) = Point(omega y, epsilon*E*cos(x)) # x'(t) = -x, y'(t) = 2y\n",
    "scene = Scene(resolution =(400,400))\n",
    "streamplot!(scene, odeSol, -2..2, -2..2, colormap = :plasma, \n",
    "    gridsize= (32,32), arrow_size = 0.07)\n",
    "save(\"odeField.png\", scene)"
   ]
  },
  {
   "cell_type": "code",
   "execution_count": null,
   "id": "6cd11413",
   "metadata": {},
   "outputs": [],
   "source": []
  }
 ],
 "metadata": {
  "kernelspec": {
   "display_name": "Julia 1.8.3",
   "language": "julia",
   "name": "julia-1.8"
  }
 },
 "nbformat": 4,
 "nbformat_minor": 5
}
